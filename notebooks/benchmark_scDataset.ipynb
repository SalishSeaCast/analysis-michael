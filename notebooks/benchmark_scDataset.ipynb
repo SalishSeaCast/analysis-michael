{
 "cells": [
  {
   "cell_type": "code",
   "execution_count": null,
   "metadata": {
    "collapsed": true
   },
   "outputs": [],
   "source": [
    "from salishsea_tools import timeseries_tools, nc_tools\n",
    "import numpy as np\n",
    "import xarray as xr\n",
    "import resource\n",
    "from time import time"
   ]
  },
  {
   "cell_type": "code",
   "execution_count": null,
   "metadata": {
    "collapsed": false
   },
   "outputs": [],
   "source": [
    "# Get file names\n",
    "timerange = ['2016 Dec 1 00:00', '2016 Dec 30 23:00']\n",
    "filesT = timeseries_tools.make_filename_list(timerange, 'T', model='nowcast-blue', resolution='h')\n",
    "\n",
    "# Load mask for passing to load_NEMO_timeseries\n",
    "mask = xr.open_dataset('/home/mdunphy/MEOPAR/NEMO-forcing/grid/mesh_mask_downbyone2.nc')"
   ]
  },
  {
   "cell_type": "code",
   "execution_count": null,
   "metadata": {
    "collapsed": true
   },
   "outputs": [],
   "source": [
    "# Select one of the cases to run (restart the kernel each time to get accurate memory usage)\n",
    "fun = 'scDataset'\n",
    "#fun = 'load_NEMO_timeseries'\n",
    "#fun = 'xarray'"
   ]
  },
  {
   "cell_type": "code",
   "execution_count": null,
   "metadata": {
    "collapsed": false
   },
   "outputs": [],
   "source": [
    "# Record start time\n",
    "t0 = time()\n",
    "\n",
    "if fun == 'scDataset':\n",
    "    with nc_tools.scDataset(filesT) as ds:\n",
    "        ts  = ds.variables['votemper'][:,:,450,:]\n",
    "\n",
    "if fun == 'load_NEMO_timeseries':\n",
    "    T_450, coords = timeseries_tools.load_NEMO_timeseries(filesT, mask, 'votemper', 'y', index=450)\n",
    "\n",
    "if fun == 'xarray':\n",
    "    with xr.open_mfdataset(filesT) as ds:\n",
    "        tx = ds.variables['votemper'][:,:,450,:].values    \n",
    "\n",
    "mem = resource.getrusage(resource.RUSAGE_SELF).ru_maxrss\n",
    "print(\"Loaded in {:.2f}s, Peak Memory Usage {:.2f} MB ({})\".format(time()-t0, mem/1024.0, fun))"
   ]
  },
  {
   "cell_type": "code",
   "execution_count": null,
   "metadata": {
    "collapsed": false
   },
   "outputs": [],
   "source": [
    "# Benchmark with three days worth of files (72 slices), warmed file cache\n",
    "#  Loaded in 4.17s, Peak Memory Usage 165.80 MB (scDataset)\n",
    "#  Loaded in 4.43s, Peak Memory Usage 570.95 MB (load_NEMO_timeseries)\n",
    "#  Loaded in 18.02s, Peak Memory Usage 9390.45 MB (xarray)\n",
    "\n",
    "# Benchmark with 30 days worth of files (720 slices), warmed file cache\n",
    "#  Loaded in 38.60s, Peak Memory Usage 373.03 MB (scDataset)\n",
    "#  Loaded in 40.76s, Peak Memory Usage 571.10 MB (load_NEMO_timeseries)\n",
    "#  xarray failed (ran out of memory, kernel crashed....)\n"
   ]
  },
  {
   "cell_type": "code",
   "execution_count": null,
   "metadata": {
    "collapsed": false
   },
   "outputs": [],
   "source": []
  },
  {
   "cell_type": "code",
   "execution_count": null,
   "metadata": {
    "collapsed": false
   },
   "outputs": [],
   "source": []
  },
  {
   "cell_type": "code",
   "execution_count": null,
   "metadata": {
    "collapsed": true
   },
   "outputs": [],
   "source": []
  }
 ],
 "metadata": {
  "anaconda-cloud": {},
  "kernelspec": {
   "display_name": "Python [conda root]",
   "language": "python",
   "name": "conda-root-py"
  },
  "language_info": {
   "codemirror_mode": {
    "name": "ipython",
    "version": 3
   },
   "file_extension": ".py",
   "mimetype": "text/x-python",
   "name": "python",
   "nbconvert_exporter": "python",
   "pygments_lexer": "ipython3",
   "version": "3.5.2"
  }
 },
 "nbformat": 4,
 "nbformat_minor": 1
}
